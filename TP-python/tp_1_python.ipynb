{
  "nbformat": 4,
  "nbformat_minor": 0,
  "metadata": {
    "kernelspec": {
      "display_name": "Python 3",
      "language": "python",
      "name": "python3"
    },
    "language_info": {
      "codemirror_mode": {
        "name": "ipython",
        "version": 3
      },
      "file_extension": ".py",
      "mimetype": "text/x-python",
      "name": "python",
      "nbconvert_exporter": "python",
      "pygments_lexer": "ipython3",
      "version": "3.7.4"
    },
    "colab": {
      "name": "tp-1-python.ipynb",
      "provenance": [],
      "collapsed_sections": []
    }
  },
  "cells": [
    {
      "cell_type": "markdown",
      "metadata": {
        "id": "Oog6cpzLkGhL"
      },
      "source": [
        "**Déclaration de variables**\n",
        "\n",
        "Déclarer une variable \"prix\" contenant le nombre 10 et une variable \"quantite\" contenant 3.\n",
        "\n",
        "Calculer le produit du prix et de la quantité ( prix * quantite )\n",
        "\n",
        "Déclarer une variable \"message\" contenant le mot \"Hello Word\"\n",
        "\n",
        "\n",
        "Déclarer une variable booléenne \"est_present\" qui vaut Vrai\n",
        "Vérifier les types des vairables."
      ]
    },
    {
      "cell_type": "code",
      "metadata": {
        "id": "fnVXITxHkGhN"
      },
      "source": [
        ""
      ],
      "execution_count": null,
      "outputs": []
    },
    {
      "cell_type": "markdown",
      "metadata": {
        "id": "2Gpmni73kGhR"
      },
      "source": [
        "**Affectation**\n",
        "\n",
        "Déclarer une variable \"prix\" égale à une variable \"prix_ht\" elle même égale au nombre 100. Utiliser la fonction \"print\" pour afficher le \"prix\"."
      ]
    },
    {
      "cell_type": "code",
      "metadata": {
        "id": "-ygRyJqEkGhR"
      },
      "source": [
        ""
      ],
      "execution_count": null,
      "outputs": []
    },
    {
      "cell_type": "markdown",
      "metadata": {
        "id": "vOyZaJcTkGhU"
      },
      "source": [
        "**Operateurs relationnels**   \n",
        "Déclarer une variable \"prix_carrefour\" égale à 200   \n",
        "Déclarer une variable \"prix_leclerc\" égalte à 180   \n",
        "\n",
        "Comparer les valeurs en utilisant les opérateurs < , > ..."
      ]
    },
    {
      "cell_type": "code",
      "metadata": {
        "id": "bW8StqdNkGhV",
        "colab": {
          "base_uri": "https://localhost:8080/",
          "height": 35
        },
        "outputId": "bc3ec597-622b-4dbf-d8d1-0cc741102b94"
      },
      "source": [
        ""
      ],
      "execution_count": null,
      "outputs": [
        {
          "output_type": "stream",
          "text": [
            "10\n"
          ],
          "name": "stdout"
        }
      ]
    },
    {
      "cell_type": "markdown",
      "metadata": {
        "id": "oA-2UuNTkGhf"
      },
      "source": [
        "# Structure de données\n",
        "les Lists sont des  séquences de données dont chaque élément peut être appelé via son index.\n",
        "Déclarer une liste vide"
      ]
    },
    {
      "cell_type": "code",
      "metadata": {
        "id": "MHasgF20kGhf"
      },
      "source": [
        ""
      ],
      "execution_count": null,
      "outputs": []
    },
    {
      "cell_type": "markdown",
      "metadata": {
        "id": "Hue-JwS2kGhj"
      },
      "source": [
        "Déclarer une liste avec 5 éléments et afficher le premier élément de cette liste, puis le dernier."
      ]
    },
    {
      "cell_type": "code",
      "metadata": {
        "id": "LJD0lR4WkGhk"
      },
      "source": [
        ""
      ],
      "execution_count": null,
      "outputs": []
    },
    {
      "cell_type": "markdown",
      "metadata": {
        "id": "sqzoyStykGhn"
      },
      "source": [
        "Le slicing permet de récupérer une sous partie de la liste. Récuperer les éléments à l'indice 2 et 3 de la liste suivant."
      ]
    },
    {
      "cell_type": "code",
      "metadata": {
        "id": "hJ5ZCnkukGhn"
      },
      "source": [
        "num = [10,1,2,6,5]"
      ],
      "execution_count": null,
      "outputs": []
    },
    {
      "cell_type": "markdown",
      "metadata": {
        "id": "RTE8HY7NkGhs"
      },
      "source": [
        "A l'aide la fonction len. Afficher la longueur de la liste"
      ]
    },
    {
      "cell_type": "code",
      "metadata": {
        "id": "MWDy1hiBkGht"
      },
      "source": [
        ""
      ],
      "execution_count": null,
      "outputs": []
    },
    {
      "cell_type": "markdown",
      "metadata": {
        "id": "C8gXYJ9JkGhv"
      },
      "source": [
        "A l'aide de la fonction min et max afficher le plus petit et le plus grand élément. A votre avis ces fonctions sont elles utilisables sur une liste de string ?"
      ]
    },
    {
      "cell_type": "code",
      "metadata": {
        "id": "m2WZlCV6kGhx"
      },
      "source": [
        "nlist = ['1','94','93','1000']"
      ],
      "execution_count": null,
      "outputs": []
    },
    {
      "cell_type": "markdown",
      "metadata": {
        "id": "6qvTkz_4kGh3"
      },
      "source": [
        "Il est possible de vérifier si un élément est présent dans une list en utilisant la syntaxe suivante: \"element\" in \"list\". Vérifier que le mot Terre est présent dans cette list "
      ]
    },
    {
      "cell_type": "code",
      "metadata": {
        "id": "Fhm-xpthkGh4",
        "colab": {
          "base_uri": "https://localhost:8080/",
          "height": 35
        },
        "outputId": "f55cd40f-292e-44b0-c227-44bb3eaa0b30"
      },
      "source": [
        "names = ['Terre','air','Feu','Eau']"
      ],
      "execution_count": null,
      "outputs": [
        {
          "output_type": "stream",
          "text": [
            "True\n"
          ],
          "name": "stdout"
        }
      ]
    },
    {
      "cell_type": "markdown",
      "metadata": {
        "id": "o-YXhdUUkGh6"
      },
      "source": [
        "La fonction append permet d'ajouter un élément à une liste. Ajouter un élement à la list \"names\""
      ]
    },
    {
      "cell_type": "code",
      "metadata": {
        "id": "3QV_zz2rkGh7"
      },
      "source": [
        ""
      ],
      "execution_count": null,
      "outputs": []
    },
    {
      "cell_type": "markdown",
      "metadata": {
        "id": "Q8UcgLsFkGh_"
      },
      "source": [
        "# Set \n",
        "Les sets sont des structures avec des éléments uniques. Utiliser la fonction set pour enlever les doublons dans la list suivantes:"
      ]
    },
    {
      "cell_type": "code",
      "metadata": {
        "id": "vzUCKviykGiA"
      },
      "source": [
        "l = [1, 2, 3 , 3, 4, 5 , 6, 7, 7, 7]"
      ],
      "execution_count": null,
      "outputs": []
    },
    {
      "cell_type": "markdown",
      "metadata": {
        "id": "i9AhBIfFkGiQ"
      },
      "source": [
        "# Dictionnaire\n",
        "Définir un dictionnaire vide puis ajouter les paires clés valeurs suivantes: \n",
        "One, 1\n",
        "Two, 2 "
      ]
    },
    {
      "cell_type": "code",
      "metadata": {
        "id": "nbouL4pjkGiQ"
      },
      "source": [
        ""
      ],
      "execution_count": null,
      "outputs": []
    },
    {
      "cell_type": "markdown",
      "metadata": {
        "id": "iA09tFsqkGib"
      },
      "source": [
        "Utiliser les fonctions values et keys pour récuperer les valeurs et les clés"
      ]
    },
    {
      "cell_type": "code",
      "metadata": {
        "id": "ALh07nAYkGic"
      },
      "source": [
        ""
      ],
      "execution_count": null,
      "outputs": []
    },
    {
      "cell_type": "code",
      "metadata": {
        "id": "oJoozz65kGie"
      },
      "source": [
        ""
      ],
      "execution_count": null,
      "outputs": []
    },
    {
      "cell_type": "markdown",
      "metadata": {
        "id": "RZjcDVMvkGii"
      },
      "source": [
        "# Structures conditionnelles \n",
        "Utiliser \"if\" pour renvoyer \"Hello\" si la valeur x est superieure à 10"
      ]
    },
    {
      "cell_type": "code",
      "metadata": {
        "id": "lV4X30ydkGij"
      },
      "source": [
        "x = 12 "
      ],
      "execution_count": null,
      "outputs": []
    },
    {
      "cell_type": "markdown",
      "metadata": {
        "id": "pYcFOAZWkGin"
      },
      "source": [
        "Ajouter une condition pour renvoyer \"World\" sinon"
      ]
    },
    {
      "cell_type": "code",
      "metadata": {
        "id": "TDVgMv-ZkGio"
      },
      "source": [
        ""
      ],
      "execution_count": null,
      "outputs": []
    },
    {
      "cell_type": "markdown",
      "metadata": {
        "id": "__N8exD0kGir"
      },
      "source": [
        "Utiliser if, elif et else pour renvoyer \"x>y\", \"x<y\" et \"x=y\" dans chacun des cas, puis tester votre code en changeant les valeurs de x et y"
      ]
    },
    {
      "cell_type": "code",
      "metadata": {
        "id": "7IgWgcu0kGis"
      },
      "source": [
        "x = 10\n",
        "y = 12\n"
      ],
      "execution_count": null,
      "outputs": []
    },
    {
      "cell_type": "markdown",
      "metadata": {
        "id": "63LRcGAYK5ct"
      },
      "source": [
        "En utilisant la fonction input(), récupérer les données prix_carrefour et prix_leclerc.\n",
        "\n",
        "Si le prix carrefour est inférieur au prix leclerc afficher le message \"Carrefour est moins cher\", sinon si le prix carrefour est supérieur au prix leclerc afficher le message \"Carrefours est plus cher\", sinon afficher le message \"Egaux !!!\"\n"
      ]
    },
    {
      "cell_type": "markdown",
      "metadata": {
        "id": "klpYBltLkGiu"
      },
      "source": [
        "# Loops \n",
        "Utiliser une boucle for avec la fonction range pour afficher les chiffres de 0 à 5. Vous pouvez utiliser la fonction range"
      ]
    },
    {
      "cell_type": "code",
      "metadata": {
        "id": "7GorhDmdkGiv"
      },
      "source": [
        ""
      ],
      "execution_count": null,
      "outputs": []
    },
    {
      "cell_type": "markdown",
      "metadata": {
        "id": "fjhT2dQjkGiw"
      },
      "source": [
        "Utiliser une boucle while pour afficher les nombres de 0 jusqu'à 5"
      ]
    },
    {
      "cell_type": "code",
      "metadata": {
        "id": "vTxkJHKekGix"
      },
      "source": [
        ""
      ],
      "execution_count": null,
      "outputs": []
    },
    {
      "cell_type": "markdown",
      "metadata": {
        "id": "0xMGXWcRkGiz"
      },
      "source": [
        "# Fonctions\n",
        "La plupart du temps, les traitements utilisés dans un algorithme sont répétés plusieurs fois. Pour gagner du temps et organiser le code il est plus simple de les encapsuler dans des fonctions.\n",
        "Définir une fonction qui affiche \"Hello World\". Puis appeler cette fonction."
      ]
    },
    {
      "cell_type": "code",
      "metadata": {
        "id": "ICOlf-sGkGiz"
      },
      "source": [
        ""
      ],
      "execution_count": null,
      "outputs": []
    },
    {
      "cell_type": "code",
      "metadata": {
        "id": "TY36NfGlkGi1"
      },
      "source": [
        ""
      ],
      "execution_count": null,
      "outputs": []
    },
    {
      "cell_type": "markdown",
      "metadata": {
        "id": "vjMrpT-vkGi4"
      },
      "source": [
        "On peut utiliser le mot clé \"return\" à la fin d'une fonction pour renvoyer un résultat.   \n",
        "Ecrire une fonction qui prend deux variables en paramètres, faire leur produit puis retourner le résultat. "
      ]
    },
    {
      "cell_type": "code",
      "metadata": {
        "id": "FsH43IEckGi4"
      },
      "source": [
        ""
      ],
      "execution_count": null,
      "outputs": []
    },
    {
      "cell_type": "markdown",
      "metadata": {
        "id": "4KubtlCgkGjC"
      },
      "source": [
        "# Lambda functions\n",
        "Fonctions permettant d'itérer sur une list "
      ]
    },
    {
      "cell_type": "code",
      "metadata": {
        "id": "cvVD3rLkkGjD"
      },
      "source": [
        "z = lambda x: x*x"
      ],
      "execution_count": null,
      "outputs": []
    },
    {
      "cell_type": "code",
      "metadata": {
        "id": "ClhA3WEikGjH",
        "outputId": "e9a3fafb-142f-47f2-a08e-e47a67029ccd"
      },
      "source": [
        "z(8)"
      ],
      "execution_count": null,
      "outputs": [
        {
          "output_type": "execute_result",
          "data": {
            "text/plain": [
              "64"
            ]
          },
          "metadata": {
            "tags": []
          },
          "execution_count": 127
        }
      ]
    }
  ]
}